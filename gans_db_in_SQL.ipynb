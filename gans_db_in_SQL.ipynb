{
  "nbformat": 4,
  "nbformat_minor": 0,
  "metadata": {
    "colab": {
      "provenance": [],
      "authorship_tag": "ABX9TyP/j79NS91LNnkRLnuySmKX",
      "include_colab_link": true
    },
    "kernelspec": {
      "name": "python3",
      "display_name": "Python 3"
    },
    "language_info": {
      "name": "python"
    }
  },
  "cells": [
    {
      "cell_type": "markdown",
      "metadata": {
        "id": "view-in-github",
        "colab_type": "text"
      },
      "source": [
        "<a href=\"https://colab.research.google.com/github/FindWhatYou/data_pipelining/blob/main/gans_db_in_SQL.ipynb\" target=\"_parent\"><img src=\"https://colab.research.google.com/assets/colab-badge.svg\" alt=\"Open In Colab\"/></a>"
      ]
    },
    {
      "cell_type": "code",
      "execution_count": null,
      "metadata": {
        "id": "IjRvVU4CUXPE"
      },
      "outputs": [],
      "source": [
        "CREATE DATABASE gans_db;\n",
        "\n",
        "USE gans_db;\n",
        "\n",
        "-- TABLE cities: Stores information about cities\n",
        "CREATE TABLE cities (\n",
        "    city_id INTEGER,\n",
        "    city_ascii VARCHAR(45),\n",
        "    iso3 VARCHAR(45),\n",
        "    lat FLOAT,\n",
        "    lng FLOAT,\n",
        "    PRIMARY KEY (city_id)\n",
        ");\n",
        "\n",
        "-- TABLE weathers_table: Stores weather data obtained from an API\n",
        "CREATE TABLE weathers_table (\n",
        "    city_id INTEGER,\n",
        "    city_name_api VARCHAR(45),\n",
        "    forecast_time DATETIME,\n",
        "    outlook TEXT,\n",
        "    temperature FLOAT,\n",
        "    feels_like FLOAT,\n",
        "    wind_speed FLOAT,\n",
        "    rain_prob FLOAT,\n",
        "    time_stamp DATETIME,\n",
        "    FOREIGN KEY (city_id) REFERENCES cities (city_id)\n",
        ");\n",
        "\n",
        "-- TABLE population: Stores population data for cities\n",
        "CREATE TABLE population (\n",
        "    city_id INTEGER,\n",
        "    population DECIMAL,\n",
        "    time_population DATE,\n",
        "    FOREIGN KEY (city_id) REFERENCES cities (city_id)\n",
        ");\n",
        "\n",
        "-- TABLE cities_to_airport: Maps cities to airports\n",
        "CREATE TABLE cities_to_airport (\n",
        "    icao VARCHAR(45) UNIQUE,\n",
        "    iata VARCHAR(45),\n",
        "    name VARCHAR(45),\n",
        "    shortName VARCHAR(45),\n",
        "    municipalityName VARCHAR(45),\n",
        "    countryCode CHAR,\n",
        "    locationLat FLOAT,\n",
        "    locationLon FLOAT,\n",
        "    city_id INTEGER,\n",
        "    PRIMARY KEY (icao),\n",
        "    FOREIGN KEY (city_id) REFERENCES cities (city_id)\n",
        ");\n",
        "\n",
        "-- TABLE airport_names: Stores airport names\n",
        "CREATE TABLE airport_names (\n",
        "    icao VARCHAR(45),\n",
        "    airport_name VARCHAR(45),\n",
        "    FOREIGN KEY (icao) REFERENCES cities_to_airport (icao)\n",
        ");\n",
        "\n",
        "-- DO NOT TOUCH THE CODE ABOVE\n",
        "\n",
        "-- TABLE flight_informations: Stores flight arrival information\n",
        "CREATE TABLE flight_informations (\n",
        "    flight_id INTEGER,\n",
        "    icao VARCHAR(45),\n",
        "    arrival_time_local DATETIME,\n",
        "    arrival_terminal INTEGER,\n",
        "    departure_city VARCHAR(45),\n",
        "    departure_icao VARCHAR(4),\n",
        "    departure_time_local DATETIME,\n",
        "    airline_flight_number VARCHAR(20),\n",
        "    time_stamp DATETIME,\n",
        "    PRIMARY KEY (flight_id),\n",
        "    FOREIGN KEY (icao) REFERENCES cities_to_airport (icao)\n",
        ");"
      ]
    }
  ]
}